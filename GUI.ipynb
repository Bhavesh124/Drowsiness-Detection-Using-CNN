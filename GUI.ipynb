{
 "cells": [
  {
   "cell_type": "code",
   "execution_count": null,
   "id": "fc9aa82b",
   "metadata": {},
   "outputs": [],
   "source": []
  },
  {
   "cell_type": "code",
   "execution_count": 38,
   "id": "fefdd202",
   "metadata": {},
   "outputs": [],
   "source": [
    "import cv2   \n",
    "import os\n",
    "from keras.models import load_model\n",
    "import numpy as np\n",
    "from pygame import mixer\n",
    "import time"
   ]
  },
  {
   "cell_type": "code",
   "execution_count": 39,
   "id": "ff2443a4",
   "metadata": {},
   "outputs": [
    {
     "name": "stdout",
     "output_type": "stream",
     "text": [
      "Requirement already satisfied: opencv-python in c:\\users\\suyash\\anaconda3\\lib\\site-packages (4.6.0.66)\n",
      "Requirement already satisfied: numpy>=1.14.5 in c:\\users\\suyash\\anaconda3\\lib\\site-packages (from opencv-python) (1.21.5)\n"
     ]
    }
   ],
   "source": [
    "!pip install opencv-python   "
   ]
  },
  {
   "cell_type": "code",
   "execution_count": 40,
   "id": "81b4684e",
   "metadata": {},
   "outputs": [],
   "source": [
    "mixer.init()\n",
    "sound = mixer.Sound(r\"D:\\Drowsiness detection\\Drowsiness detection\\alarm.wav\")   # used for playing sound effects, music"
   ]
  },
  {
   "cell_type": "code",
   "execution_count": 41,
   "id": "cd63aa33",
   "metadata": {},
   "outputs": [],
   "source": [
    "face = cv2.CascadeClassifier('haar cascade file\\haarcascade_frontalface_alt.xml')   # Haar Cascade Classifier for detecting frontal faces\n",
    "leye = cv2.CascadeClassifier('haar cascade file\\haarcascade_lefteye_2splits.xml')   # for left eye\n",
    "reye = cv2.CascadeClassifier('haar cascade file\\haarcascade_righteye_2splits.xml')  # for right eye"
   ]
  },
  {
   "cell_type": "code",
   "execution_count": 42,
   "id": "e3498ee6",
   "metadata": {},
   "outputs": [],
   "source": [
    "lbl=['Close','Open']   # define class labels \n",
    "\n",
    "model = load_model('models/cnnCat2.h5')   # loading a model which we have trained\n",
    "path = os.getcwd()   # retrives the current working directory\n",
    "cap = cv2.VideoCapture(0)   # used to read frames from the camera\n",
    "font = cv2.FONT_HERSHEY_COMPLEX_SMALL   # font of text for videoframe\n",
    "count=0   # has count of number of frames\n",
    "score=0   # has count of scores\n",
    "thicc=2   # for thickness \n",
    "rpred=[99]   # store prediction for right eye\n",
    "lpred=[99]   # store prediction for left eye\n"
   ]
  },
  {
   "cell_type": "code",
   "execution_count": 43,
   "id": "b73727ea",
   "metadata": {},
   "outputs": [
    {
     "ename": "AttributeError",
     "evalue": "'NoneType' object has no attribute 'shape'",
     "output_type": "error",
     "traceback": [
      "\u001b[1;31m---------------------------------------------------------------------------\u001b[0m",
      "\u001b[1;31mAttributeError\u001b[0m                            Traceback (most recent call last)",
      "Input \u001b[1;32mIn [43]\u001b[0m, in \u001b[0;36m<cell line: 2>\u001b[1;34m()\u001b[0m\n\u001b[0;32m      1\u001b[0m \u001b[38;5;28;01mwhile\u001b[39;00m(\u001b[38;5;28;01mTrue\u001b[39;00m):   \u001b[38;5;66;03m# loop will go for infinite time\u001b[39;00m\n\u001b[0;32m      2\u001b[0m     ret, frame \u001b[38;5;241m=\u001b[39m cap\u001b[38;5;241m.\u001b[39mread()   \u001b[38;5;66;03m# cap.read() - method to read video frame / \"ret\" will give us boolean value\u001b[39;00m\n\u001b[1;32m----> 3\u001b[0m     height,width \u001b[38;5;241m=\u001b[39m \u001b[43mframe\u001b[49m\u001b[38;5;241;43m.\u001b[39;49m\u001b[43mshape\u001b[49m[:\u001b[38;5;241m2\u001b[39m]   \u001b[38;5;66;03m# extracting height and width of captured frame\u001b[39;00m\n\u001b[0;32m      5\u001b[0m     gray \u001b[38;5;241m=\u001b[39m cv2\u001b[38;5;241m.\u001b[39mcvtColor(frame, cv2\u001b[38;5;241m.\u001b[39mCOLOR_BGR2GRAY)   \u001b[38;5;66;03m# cv-2 - OpenCV library for computer vision \u001b[39;00m\n\u001b[0;32m      7\u001b[0m     \u001b[38;5;66;03m# It is a color conversion code indicating the conversion from BGR to grayscale.\u001b[39;00m\n",
      "\u001b[1;31mAttributeError\u001b[0m: 'NoneType' object has no attribute 'shape'"
     ]
    }
   ],
   "source": [
    "while(True):   # loop will go for infinite time\n",
    "    ret, frame = cap.read()   # cap.read() - method to read video frame / \"ret\" will give us boolean value\n",
    "    height,width = frame.shape[:2]   # extracting height and width of captured frame\n",
    "\n",
    "    gray = cv2.cvtColor(frame, cv2.COLOR_BGR2GRAY)   # cv-2 - OpenCV library for computer vision \n",
    "    \n",
    "    # It is a color conversion code indicating the conversion from BGR to grayscale.\n",
    "    \n",
    "    faces = face.detectMultiScale(gray,minNeighbors=5,scaleFactor=1.1,minSize=(25,25))   # method of the face detection classifier\n",
    "    left_eye = leye.detectMultiScale(gray)\n",
    "    right_eye =  reye.detectMultiScale(gray)\n",
    "\n",
    "    cv2.rectangle(frame, (0,height-50) , (200,height) , (0,0,0) , thickness=cv2.FILLED )   # creating a rectangle frame\n",
    "\n",
    "    for (x,y,w,h) in faces:   # shows co-ordinates of faces\n",
    "        cv2.rectangle(frame, (x,y) , (x+w,y+h) , (100,100,100) , 1 )\n",
    "        # x,y - top-left corner of rectangle\n",
    "        # x+w, y+h - bottom right of rectangle\n",
    "        # (100,100,100) - showing equal intensity for RGB\n",
    "        # 1 - thin border\n",
    "\n",
    "    for (x,y,w,h) in right_eye:\n",
    "        r_eye=frame[y:y+h,x:x+w]\n",
    "        count=count+1\n",
    "        r_eye = cv2.cvtColor(r_eye,cv2.COLOR_BGR2GRAY)\n",
    "        r_eye = cv2.resize(r_eye,(24,24))\n",
    "        r_eye= r_eye/255\n",
    "        r_eye=  r_eye.reshape(24,24,-1)   # right eye region to have dimensions (24, 24, 1), \n",
    "        # preparing it for input to a neural network.\n",
    "        r_eye = np.expand_dims(r_eye,axis=0)\n",
    "        rpred = np.argmax(model.predict(r_eye),axis=-1)\n",
    "        if(rpred[0]==1):   # checks the predicted output and assigns a result accordingly\n",
    "            lbl='Open' \n",
    "        if(rpred[0]==0):\n",
    "            lbl='Closed'\n",
    "        break\n",
    "    for (x,y,w,h) in left_eye:\n",
    "        l_eye=frame[y:y+h,x:x+w]\n",
    "        count=count+1\n",
    "        l_eye = cv2.cvtColor(l_eye,cv2.COLOR_BGR2GRAY)  \n",
    "        l_eye = cv2.resize(l_eye,(24,24))\n",
    "        l_eye= l_eye/255\n",
    "        l_eye=l_eye.reshape(24,24,-1)\n",
    "        l_eye = np.expand_dims(l_eye,axis=0)\n",
    "        lpred = np.argmax(model.predict(l_eye),axis=-1)\n",
    "        if(lpred[0]==1):\n",
    "            lbl='Open'   \n",
    "        if(lpred[0]==0):\n",
    "            lbl='Closed'\n",
    "        break\n",
    "    if(rpred[0]==0 and lpred[0]==0):\n",
    "        score=score+1\n",
    "        cv2.putText(frame,\"Closed\",(10,height-20), font, 1,(255,255,255),1,cv2.LINE_AA)\n",
    "    # if(rpred[0]==1 or lpred[0]==1):\n",
    "    else:\n",
    "        score=score-1\n",
    "        cv2.putText(frame,\"Open\",(10,height-20), font, 1,(255,255,255),1,cv2.LINE_AA)\n",
    "    \n",
    "        \n",
    "    if(score<0):\n",
    "        score=0   \n",
    "    cv2.putText(frame,'Score:'+str(score),(100,height-20), font, 1,(255,255,255),1,cv2.LINE_AA)\n",
    "    if(score>15):\n",
    "        #person is feeling sleepy so we beep the alarm\n",
    "        cv2.imwrite(os.path.join(path,'image.jpg'),frame)\n",
    "        try:\n",
    "            sound.play()\n",
    "            \n",
    "        except:  # isplaying = False\n",
    "            pass\n",
    "        if(thicc<16):\n",
    "            thicc= thicc+2\n",
    "        else:\n",
    "            thicc=thicc-2\n",
    "            if(thicc<2):\n",
    "                thicc=2\n",
    "        cv2.rectangle(frame,(0,0),(width,height),(0,0,255),thicc) \n",
    "    cv2.imshow('frame',frame)\n",
    "    if cv2.waitKey(1) & 0xFF == ord('q'):\n",
    "        break\n",
    "cap.release()\n",
    "cv2.destroyAllWindows()"
   ]
  },
  {
   "cell_type": "code",
   "execution_count": null,
   "id": "eb6672c5",
   "metadata": {},
   "outputs": [],
   "source": []
  }
 ],
 "metadata": {
  "kernelspec": {
   "display_name": "Python 3 (ipykernel)",
   "language": "python",
   "name": "python3"
  },
  "language_info": {
   "codemirror_mode": {
    "name": "ipython",
    "version": 3
   },
   "file_extension": ".py",
   "mimetype": "text/x-python",
   "name": "python",
   "nbconvert_exporter": "python",
   "pygments_lexer": "ipython3",
   "version": "3.9.12"
  }
 },
 "nbformat": 4,
 "nbformat_minor": 5
}
